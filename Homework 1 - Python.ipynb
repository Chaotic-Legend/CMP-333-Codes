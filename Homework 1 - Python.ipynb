{
  "metadata": {
    "kernelspec": {
      "name": "xpython",
      "display_name": "Python 3.13 (XPython)",
      "language": "python"
    },
    "language_info": {
      "file_extension": ".py",
      "mimetype": "text/x-python",
      "name": "python",
      "version": "3.13.1"
    }
  },
  "nbformat_minor": 5,
  "nbformat": 4,
  "cells": [
    {
      "id": "1fdd97a3-b40e-464c-a91a-cd7ec2826453",
      "cell_type": "code",
      "source": "# Week 1 Homework",
      "metadata": {
        "trusted": true
      },
      "outputs": [],
      "execution_count": null
    },
    {
      "id": "9efcb170-946d-43ec-9353-6fce6ef7cc9a",
      "cell_type": "code",
      "source": "# Programming Task 1\n\ndef get_max(numbers):\n    maximum = numbers[0]\n    \n    for num in numbers:\n        if num > maximum:\n            maximum = num\n    return maximum\n\nlist1 = [3, 1, 4, 1, 5, 9]\nans = get_max(list1)\nprint(ans)",
      "metadata": {
        "trusted": true
      },
      "outputs": [
        {
          "name": "stdout",
          "output_type": "stream",
          "text": "9\n"
        }
      ],
      "execution_count": 1
    },
    {
      "id": "dd34aaa7-13b1-45c6-8e52-9472d00b3497",
      "cell_type": "code",
      "source": "# Programming Task 2\n\ndef get_unique(numbers):\n    unique_values = list(set(numbers))\n    n_unique = len(unique_values)\n    return n_unique, unique_values\n\nlist1 = [3, 1, 4, 1, 5, 9, 5, 4]\nn_unique, list_unique = get_unique(list1)\nprint(n_unique)\nprint(list_unique)",
      "metadata": {
        "trusted": true
      },
      "outputs": [
        {
          "name": "stdout",
          "output_type": "stream",
          "text": "5\n[1, 3, 4, 5, 9]\n"
        }
      ],
      "execution_count": 2
    },
    {
      "id": "1c8680d9-2454-4a2c-ac33-e078489f4703",
      "cell_type": "code",
      "source": "# Programming Task 3\n\nimport math\n\nclass DataHandler:\n    def __init__(self, data_list):\n        self.list = data_list\n\n    def shape(self):\n        return len(self.list)\n\n    def mean(self):\n        return sum(self.list) / len(self.list)\n\n    def variance(self):\n        n = len(self.list)\n        mean_val = self.mean()\n        return sum((x - mean_val) ** 2 for x in self.list) / (n - 1)\n\n    def std(self):\n        return math.sqrt(self.variance())\n\nlist1 = [3, 1, 4, 1, 5, 9]\ndata = DataHandler(list1)\nprint(data.shape())\nprint(data.mean())\nprint(data.variance())\nprint(data.std())",
      "metadata": {
        "trusted": true
      },
      "outputs": [
        {
          "name": "stdout",
          "output_type": "stream",
          "text": "6\n3.8333333333333335\n8.966666666666665\n2.9944392908634274\n"
        }
      ],
      "execution_count": 3
    }
  ]
}
