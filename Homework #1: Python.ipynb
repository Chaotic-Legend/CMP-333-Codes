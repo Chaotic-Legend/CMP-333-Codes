{
  "metadata": {
    "kernelspec": {
      "name": "python",
      "display_name": "Python (Pyodide)",
      "language": "python"
    },
    "language_info": {
      "codemirror_mode": {
        "name": "python",
        "version": 3
      },
      "file_extension": ".py",
      "mimetype": "text/x-python",
      "name": "python",
      "nbconvert_exporter": "python",
      "pygments_lexer": "ipython3",
      "version": "3.8"
    }
  },
  "nbformat_minor": 5,
  "nbformat": 4,
  "cells": [
    {
      "id": "5b3ac285-b5ca-44a2-83d6-c668d38cb68e",
      "cell_type": "markdown",
      "source": "# Homework #1: Python\n#### **Week 1 Homework**",
      "metadata": {}
    },
    {
      "id": "d3f4624e-7895-4396-b33c-a5c04cd4ecb4",
      "cell_type": "markdown",
      "source": "# Programming Tasks\n## **1. Write a function `get_max()` that takes a list of numbers and returns its maximum value.**",
      "metadata": {}
    },
    {
      "id": "9efcb170-946d-43ec-9353-6fce6ef7cc9a",
      "cell_type": "code",
      "source": "def get_max(numbers):\n    maximum = numbers[0]\n    \n    for num in numbers:\n        if num > maximum:\n            maximum = num\n    return maximum\n\nlist1 = [3, 1, 4, 1, 5, 9]\nans = get_max(list1)\nprint(ans)",
      "metadata": {
        "trusted": true
      },
      "outputs": [
        {
          "name": "stdout",
          "output_type": "stream",
          "text": "9\n"
        }
      ],
      "execution_count": 1
    },
    {
      "id": "f35c5cbb-0431-4452-a655-5c5d43961101",
      "cell_type": "markdown",
      "source": "## **2. Write a function `get_unique()` that takes a list of numbers and returns the number of unique values and a list containing all unique values.**",
      "metadata": {}
    },
    {
      "id": "dd34aaa7-13b1-45c6-8e52-9472d00b3497",
      "cell_type": "code",
      "source": "def get_unique(numbers):\n    unique_values = list(set(numbers))\n    n_unique = len(unique_values)\n    return n_unique, unique_values\n\nlist1 = [3, 1, 4, 1, 5, 9, 5, 4]\nn_unique, list_unique = get_unique(list1)\nprint(n_unique)\nprint(list_unique)",
      "metadata": {
        "trusted": true
      },
      "outputs": [
        {
          "name": "stdout",
          "output_type": "stream",
          "text": "5\n[1, 3, 4, 5, 9]\n"
        }
      ],
      "execution_count": 2
    },
    {
      "id": "3f875130-1c8f-47fc-9046-d427e9571b64",
      "cell_type": "markdown",
      "source": "## **3. Write a class named `DataHandler` that achieves the following:**\n- Its `__init__()` method assigns a list to self.list\n- Its `shape()` method returns the number of values in the list.\n- Its `mean()` method returns the average of the values in the list.\n- Its `variance()` method returns the variance of the values in the list.\n- Its `std()` method returns the standard deviation of the values in the list",
      "metadata": {}
    },
    {
      "id": "1c8680d9-2454-4a2c-ac33-e078489f4703",
      "cell_type": "code",
      "source": "import math\n\nclass DataHandler:\n    def __init__(self, data_list):\n        self.list = data_list\n\n    def shape(self):\n        return len(self.list)\n\n    def mean(self):\n        return sum(self.list) / len(self.list)\n\n    def variance(self):\n        n = len(self.list)\n        mean_val = self.mean()\n        return sum((x - mean_val) ** 2 for x in self.list) / n\n\n    def std(self):\n        return math.sqrt(self.variance())\n\nlist1 = [3, 1, 4, 1, 5, 9]\ndata = DataHandler(list1)\nprint(data.shape())\nprint(data.mean())\nprint(data.variance())\nprint(data.std())",
      "metadata": {
        "trusted": true
      },
      "outputs": [
        {
          "name": "stdout",
          "output_type": "stream",
          "text": "6\n3.8333333333333335\n7.472222222222221\n2.733536577809454\n"
        }
      ],
      "execution_count": 3
    }
  ]
}
