{
  "metadata": {
    "kernelspec": {
      "name": "python",
      "display_name": "Python (Pyodide)",
      "language": "python"
    },
    "language_info": {
      "codemirror_mode": {
        "name": "python",
        "version": 3
      },
      "file_extension": ".py",
      "mimetype": "text/x-python",
      "name": "python",
      "nbconvert_exporter": "python",
      "pygments_lexer": "ipython3",
      "version": "3.8"
    }
  },
  "nbformat_minor": 5,
  "nbformat": 4,
  "cells": [
    {
      "id": "874b62d8-d9ae-41b0-9833-7d68bcf3f094",
      "cell_type": "markdown",
      "source": "# Homework #4: Analyzing Data Frames\nAnalyze the [MovieLens](https://grouplens.org/datasets/movielens/) `ml-latest-small` dataset and find the answer to the following questions:\n#### CMP 333: Data Management and Analysis - Isaac D. Hoyos",
      "metadata": {}
    },
    {
      "id": "fd2ef132-cbb3-429c-ae81-712a712eaa58",
      "cell_type": "code",
      "source": "import pandas as pd\n\n# Load CSV files.\nmovies_df = pd.read_csv(\"movies.csv\")\nratings_df = pd.read_csv(\"ratings.csv\")\n\n# Convert timestamp to datetime and extract year.\nratings_df['datetime'] = pd.to_datetime(ratings_df['timestamp'], unit = 's')\nratings_df['year'] = ratings_df['datetime'].dt.year",
      "metadata": {
        "trusted": true
      },
      "outputs": [],
      "execution_count": 1
    },
    {
      "id": "d033b6dd-35a5-4787-a19d-aea737bbf6b3",
      "cell_type": "markdown",
      "source": "## **1. Which 5 comedy movies receive the largest number of ratings?**",
      "metadata": {}
    },
    {
      "id": "ff920055-ea8f-41d1-9899-6b07a5dbf619",
      "cell_type": "code",
      "source": "# Filter comedy movies.\ncomedy_movies = movies_df[movies_df['genres'].str.contains('Comedy', case = False, na = False)]\n\n# Merge with ratings data.\ncomedy_ratings = pd.merge(ratings_df, comedy_movies, on = 'movieId', how = 'inner')\n\n# Count the number of ratings for each comedy movie.\ncomedy_counts = comedy_ratings.groupby(['movieId', 'title'])['rating'].count().reset_index(name='num_ratings')\n\n# Sort in descending order and show the top 5.\ntop5_comedies = comedy_counts.sort_values('num_ratings', ascending = False).head(5)\n\nprint(\"Top 5 Comedy Movies With The Largest Number of Ratings:\")\ndisplay(top5_comedies[['title', 'num_ratings']])",
      "metadata": {
        "trusted": true
      },
      "outputs": [
        {
          "name": "stdout",
          "output_type": "stream",
          "text": "Top 5 Comedy Movies With The Largest Number of Ratings:\n"
        },
        {
          "output_type": "display_data",
          "data": {
            "text/plain": "                   title  num_ratings\n115  Forrest Gump (1994)          329\n94   Pulp Fiction (1994)          307\n0       Toy Story (1995)          215\n194       Aladdin (1992)          183\n197         Fargo (1996)          181",
            "text/html": "<div>\n<style scoped>\n    .dataframe tbody tr th:only-of-type {\n        vertical-align: middle;\n    }\n\n    .dataframe tbody tr th {\n        vertical-align: top;\n    }\n\n    .dataframe thead th {\n        text-align: right;\n    }\n</style>\n<table border=\"1\" class=\"dataframe\">\n  <thead>\n    <tr style=\"text-align: right;\">\n      <th></th>\n      <th>title</th>\n      <th>num_ratings</th>\n    </tr>\n  </thead>\n  <tbody>\n    <tr>\n      <th>115</th>\n      <td>Forrest Gump (1994)</td>\n      <td>329</td>\n    </tr>\n    <tr>\n      <th>94</th>\n      <td>Pulp Fiction (1994)</td>\n      <td>307</td>\n    </tr>\n    <tr>\n      <th>0</th>\n      <td>Toy Story (1995)</td>\n      <td>215</td>\n    </tr>\n    <tr>\n      <th>194</th>\n      <td>Aladdin (1992)</td>\n      <td>183</td>\n    </tr>\n    <tr>\n      <th>197</th>\n      <td>Fargo (1996)</td>\n      <td>181</td>\n    </tr>\n  </tbody>\n</table>\n</div>"
          },
          "metadata": {}
        }
      ],
      "execution_count": 2
    },
    {
      "id": "114987fd-94ed-438f-a474-4db04dbc8a17",
      "cell_type": "markdown",
      "source": "## **2. Which user gave the most ratings in 2018? How many ratings did he or she give?**",
      "metadata": {}
    },
    {
      "id": "9bf2f4ae-c591-4266-ab98-019a41b4c6d1",
      "cell_type": "code",
      "source": "# Filter ratings made in 2018.\nratings_2018 = ratings_df[ratings_df['year'] == 2018]\n\n# Count number of ratings per user.\nuser_2018_counts = ratings_2018.groupby('userId')['rating'].count().reset_index(name='num_ratings')\n\n# Find the top user in the data.\nif not user_2018_counts.empty:\n    top_user_2018 = user_2018_counts.sort_values('num_ratings', ascending=False).head(1)\n    top_user_id = top_user_2018.iloc[0]['userId']\n    top_user_ratings = top_user_2018.iloc[0]['num_ratings']\n    print(f\"The User With The Most Ratings in 2018: {top_user_id}\")\n    print(f\"Number of Ratings The User Gave in 2018: {top_user_ratings}\")\n    \n    # Display the table\n    display(top_user_2018)\nelse:\n    print(\"No ratings found for 2018.\")",
      "metadata": {
        "trusted": true
      },
      "outputs": [
        {
          "name": "stdout",
          "output_type": "stream",
          "text": "The User With The Most Ratings in 2018: 599\nNumber of Ratings The User Gave in 2018: 794\n"
        },
        {
          "output_type": "display_data",
          "data": {
            "text/plain": "    userId  num_ratings\n47     599          794",
            "text/html": "<div>\n<style scoped>\n    .dataframe tbody tr th:only-of-type {\n        vertical-align: middle;\n    }\n\n    .dataframe tbody tr th {\n        vertical-align: top;\n    }\n\n    .dataframe thead th {\n        text-align: right;\n    }\n</style>\n<table border=\"1\" class=\"dataframe\">\n  <thead>\n    <tr style=\"text-align: right;\">\n      <th></th>\n      <th>userId</th>\n      <th>num_ratings</th>\n    </tr>\n  </thead>\n  <tbody>\n    <tr>\n      <th>47</th>\n      <td>599</td>\n      <td>794</td>\n    </tr>\n  </tbody>\n</table>\n</div>"
          },
          "metadata": {}
        }
      ],
      "execution_count": 3
    },
    {
      "id": "331d984e-3d2d-4181-b11e-8c3c6cc308a7",
      "cell_type": "markdown",
      "source": "## **3. Which 5 drama movies have the highest average rating? (Do not count movies with fewer than 10 ratings.)**",
      "metadata": {}
    },
    {
      "id": "fdfcf820-541b-4346-9587-a748937ccfa7",
      "cell_type": "code",
      "source": "# Filter drama movies.\ndrama_movies = movies_df[movies_df['genres'].str.contains('Drama', case = False, na = False)]\n\n# Merge with ratings data.\ndrama_ratings = pd.merge(ratings_df, drama_movies, on = 'movieId', how = 'inner')\n\n# Calculate average rating and rating count per movie.\ndrama_stats = drama_ratings.groupby(['movieId', 'title'])['rating'].agg(['mean', 'count']).reset_index()\ndrama_stats = drama_stats.rename(columns = {'mean': 'avg_rating', 'count': 'num_ratings'})\n\n# Keep movies with at least 10 ratings.\ndrama_stats_filtered = drama_stats[drama_stats['num_ratings'] >= 10]\n\n# Sort by average rating and show the top 5.\ntop5_drama = drama_stats_filtered.sort_values(['avg_rating', 'num_ratings'], ascending = [False, False]).head(5)\n\nprint(\"Top 5 Drama Movies With The Highest Average Rating:\")\ndisplay(top5_drama[['title', 'avg_rating', 'num_ratings']])",
      "metadata": {
        "trusted": true
      },
      "outputs": [
        {
          "name": "stdout",
          "output_type": "stream",
          "text": "Top 5 Drama Movies With The Highest Average Rating:\n"
        },
        {
          "output_type": "display_data",
          "data": {
            "text/plain": "                                    title  avg_rating  num_ratings\n389                 Secrets & Lies (1996)    4.590909           11\n1230  Guess Who's Coming to Dinner (1967)    4.545455           11\n437                 Paths of Glory (1957)    4.541667           12\n414      Streetcar Named Desire, A (1951)    4.475000           20\n847      Celebration, The (Festen) (1998)    4.458333           12",
            "text/html": "<div>\n<style scoped>\n    .dataframe tbody tr th:only-of-type {\n        vertical-align: middle;\n    }\n\n    .dataframe tbody tr th {\n        vertical-align: top;\n    }\n\n    .dataframe thead th {\n        text-align: right;\n    }\n</style>\n<table border=\"1\" class=\"dataframe\">\n  <thead>\n    <tr style=\"text-align: right;\">\n      <th></th>\n      <th>title</th>\n      <th>avg_rating</th>\n      <th>num_ratings</th>\n    </tr>\n  </thead>\n  <tbody>\n    <tr>\n      <th>389</th>\n      <td>Secrets &amp; Lies (1996)</td>\n      <td>4.590909</td>\n      <td>11</td>\n    </tr>\n    <tr>\n      <th>1230</th>\n      <td>Guess Who's Coming to Dinner (1967)</td>\n      <td>4.545455</td>\n      <td>11</td>\n    </tr>\n    <tr>\n      <th>437</th>\n      <td>Paths of Glory (1957)</td>\n      <td>4.541667</td>\n      <td>12</td>\n    </tr>\n    <tr>\n      <th>414</th>\n      <td>Streetcar Named Desire, A (1951)</td>\n      <td>4.475000</td>\n      <td>20</td>\n    </tr>\n    <tr>\n      <th>847</th>\n      <td>Celebration, The (Festen) (1998)</td>\n      <td>4.458333</td>\n      <td>12</td>\n    </tr>\n  </tbody>\n</table>\n</div>"
          },
          "metadata": {}
        }
      ],
      "execution_count": 4
    }
  ]
}
