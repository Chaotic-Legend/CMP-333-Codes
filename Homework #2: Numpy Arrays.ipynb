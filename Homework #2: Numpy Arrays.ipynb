{
  "metadata": {
    "kernelspec": {
      "name": "python",
      "display_name": "Python (Pyodide)",
      "language": "python"
    },
    "language_info": {
      "codemirror_mode": {
        "name": "python",
        "version": 3
      },
      "file_extension": ".py",
      "mimetype": "text/x-python",
      "name": "python",
      "nbconvert_exporter": "python",
      "pygments_lexer": "ipython3",
      "version": "3.8"
    }
  },
  "nbformat_minor": 5,
  "nbformat": 4,
  "cells": [
    {
      "id": "d432cd58",
      "cell_type": "markdown",
      "source": "# Homework #2: Data Analysis with Numpy Arrays\nFor this homework assignment, you will use the `cereal.csv` dataset, which you can load using `np.loadtxt()` as shown in the class notebook.\n#### CMP 333: Data Management and Analysis - Isaac D. Hoyos",
      "metadata": {}
    },
    {
      "id": "fd278268",
      "cell_type": "markdown",
      "source": "## **1. Load and Inspect the Data:**\n- Load the `cereal.csv` file into a NumPy array named `cereal_data`. Use the provided code snippet from the notebook to handle the mixed data types and skip the header row.\n- Load the header row separately into a list or array named `feature_names`.\n- Print the **shape** of `cereal_data`.",
      "metadata": {}
    },
    {
      "id": "11f224c0",
      "cell_type": "code",
      "source": "import numpy as np\ncereal_data = np.loadtxt(\"cereal.csv\", delimiter = \",\", skiprows = 1, dtype = str)\nfeature_names = np.loadtxt(\"cereal.csv\", delimiter = \",\", dtype = str, max_rows = 1)\nprint(\"Feature Names:\", feature_names)\nprint(\"\\nShape of cereal_data:\", cereal_data.shape)\nprint(\"Number of Rows:\", cereal_data.shape[0])\nprint(\"Number of Columns:\", cereal_data.shape[1])",
      "metadata": {
        "trusted": true
      },
      "outputs": [
        {
          "name": "stdout",
          "output_type": "stream",
          "text": "Feature Names: ['name' 'mfr' 'type' 'calories' 'protein' 'fat' 'sodium' 'fiber' 'carbo'\n 'sugars' 'potass' 'vitamins' 'shelf' 'weight' 'cups' 'rating']\n\nShape of cereal_data: (77, 16)\nNumber of Rows: 77\nNumber of Columns: 16\n"
        }
      ],
      "execution_count": 1
    },
    {
      "id": "c28b4555",
      "cell_type": "markdown",
      "source": "## **2. Answer the following questions using NumPy operations:**\n**a.** How many cereals have a sugar content greater than 10 grams per serving? Print the total count and the names of these cereals.",
      "metadata": {}
    },
    {
      "id": "5437d6ad",
      "cell_type": "code",
      "source": "feature_names_list = feature_names.tolist()\nindex_sugars = feature_names_list.index(\"sugars\")\nindex_name = feature_names_list.index(\"name\")\ncereal_names = cereal_data[:, 0]\ncereal_sugars = cereal_data[:, index_sugars].astype(float)\nhigh_sugar_values = cereal_sugars > 10\nhigh_sugar_cereals = cereal_data[high_sugar_values, index_name]\nprint(\"Number of cereals with sugar > 10g:\", high_sugar_cereals.size)\nprint(\"\\nNames of cereals with sugar > 10g:\", high_sugar_cereals)",
      "metadata": {
        "trusted": true
      },
      "outputs": [
        {
          "name": "stdout",
          "output_type": "stream",
          "text": "Number of cereals with sugar > 10g: 21\n\nNames of cereals with sugar > 10g: ['Apple Jacks' \"Cap'n'Crunch\" 'Cocoa Puffs' 'Corn Pops' 'Count Chocula'\n 'Froot Loops' 'Frosted Flakes' 'Fruitful Bran' 'Fruity Pebbles'\n 'Golden Crisp' 'Honey Graham Ohs' 'Honey-comb' 'Lucky Charms'\n 'Muesli Raisins; Dates; & Almonds' 'Muesli Raisins; Peaches; & Pecans'\n 'Mueslix Crispy Blend' 'Post Nat. Raisin Bran' 'Raisin Bran' 'Smacks'\n 'Total Raisin Bran' 'Trix']\n"
        }
      ],
      "execution_count": 2
    },
    {
      "id": "a25f4081",
      "cell_type": "markdown",
      "source": "**b.** What is the name of the cereal with the **highest** rating?",
      "metadata": {}
    },
    {
      "id": "4f4d6e58",
      "cell_type": "code",
      "source": "index_rating = feature_names_list.index(\"rating\")\nrating = cereal_data[:, index_rating].astype(float)\nindex_highest_rating = np.argmax(rating)\nhighest_rating_cereal = cereal_data[index_highest_rating, feature_names_list.index(\"name\")]\nprint(\"Name of the cereal with the highest rating:\", highest_rating_cereal)",
      "metadata": {
        "trusted": true
      },
      "outputs": [
        {
          "name": "stdout",
          "output_type": "stream",
          "text": "Name of the cereal with the highest rating: All-Bran with Extra Fiber\n"
        }
      ],
      "execution_count": 3
    },
    {
      "id": "33bb9389",
      "cell_type": "markdown",
      "source": "**c.** Which cereal is the most fibrous? Find and print the name of the cereal with the highest fiber content.",
      "metadata": {}
    },
    {
      "id": "aeade6eb-c646-4f4f-ba3c-e36416b31b70",
      "cell_type": "code",
      "source": "index_fiber = feature_names_list.index(\"fiber\")\nfiber = cereal_data[:, index_fiber].astype(float)\nindex_highest_fiber = np.argmax(fiber)\nhighest_fiber_cereal = cereal_data[index_highest_fiber, feature_names_list.index(\"name\")]\nprint(\"Name of the cereal with the highest fiber content:\", highest_fiber_cereal)",
      "metadata": {
        "trusted": true
      },
      "outputs": [
        {
          "name": "stdout",
          "output_type": "stream",
          "text": "Name of the cereal with the highest fiber content: All-Bran with Extra Fiber\n"
        }
      ],
      "execution_count": 4
    },
    {
      "id": "d4bcbe74",
      "cell_type": "markdown",
      "source": "**d.** Find the cereal with the highest `calories` and the one with the lowest `calories`. Print the names of both.",
      "metadata": {}
    },
    {
      "id": "bced16d7",
      "cell_type": "code",
      "source": "index_calories = feature_names_list.index(\"calories\")\ncalories = cereal_data[:, index_calories].astype(float)\nindex_highest_calories = np.argmax(calories)\nindex_lowest_calories = np.argmin(calories)\nhighest_calorie_cereal = cereal_data[index_highest_calories, feature_names_list.index(\"name\")]\nlowest_calorie_cereal = cereal_data[index_lowest_calories, feature_names_list.index(\"name\")]\nprint(\"Name of the cereal with the highest calories:\", highest_calorie_cereal)\nprint(\"\\nName of the cereal with the lowest calories:\", lowest_calorie_cereal)",
      "metadata": {
        "trusted": true
      },
      "outputs": [
        {
          "name": "stdout",
          "output_type": "stream",
          "text": "Name of the cereal with the highest calories: Mueslix Crispy Blend\n\nName of the cereal with the lowest calories: All-Bran with Extra Fiber\n"
        }
      ],
      "execution_count": 5
    }
  ]
}
