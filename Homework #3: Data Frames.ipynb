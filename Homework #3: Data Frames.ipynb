{
  "metadata": {
    "kernelspec": {
      "name": "python",
      "display_name": "Python (Pyodide)",
      "language": "python"
    },
    "language_info": {
      "codemirror_mode": {
        "name": "python",
        "version": 3
      },
      "file_extension": ".py",
      "mimetype": "text/x-python",
      "name": "python",
      "nbconvert_exporter": "python",
      "pygments_lexer": "ipython3",
      "version": "3.8"
    }
  },
  "nbformat_minor": 5,
  "nbformat": 4,
  "cells": [
    {
      "id": "d432cd58",
      "cell_type": "markdown",
      "source": "# Homework #3: Data Frames\nUsing Pandas and DataFrame, repeat our analysis of the 80 Cereal Data. Please complete the following tasks and submit the solutions as a PDF file to Blackboard.\n#### CMP 333: Data Management and Analysis - Isaac D. Hoyos",
      "metadata": {}
    },
    {
      "id": "fd278268",
      "cell_type": "markdown",
      "source": "## **1. Load `cereal.csv` as a pandas data frame and display its first 5 rows. [Source of data](https://www.kaggle.com/crawford/80-cereals)**",
      "metadata": {}
    },
    {
      "id": "11f224c0",
      "cell_type": "code",
      "source": "import pandas as pd\ncereal_df = pd.read_csv(\"cereal.csv\")\nprint(\"The first 5 rows of the dataset:\")\ndisplay(cereal_df.head())",
      "metadata": {
        "trusted": true
      },
      "outputs": [
        {
          "name": "stdout",
          "output_type": "stream",
          "text": "The first 5 rows of the dataset:\n"
        },
        {
          "output_type": "display_data",
          "data": {
            "text/plain": "                        name mfr type  calories  protein  fat  sodium  fiber  \\\n0                  100% Bran   N    C        70        4    1     130   10.0   \n1          100% Natural Bran   Q    C       120        3    5      15    2.0   \n2                   All-Bran   K    C        70        4    1     260    9.0   \n3  All-Bran with Extra Fiber   K    C        50        4    0     140   14.0   \n4             Almond Delight   R    C       110        2    2     200    1.0   \n\n   carbo  sugars  potass  vitamins  shelf  weight  cups     rating  \n0    5.0       6     280        25      3     1.0  0.33  68.402973  \n1    8.0       8     135         0      3     1.0  1.00  33.983679  \n2    7.0       5     320        25      3     1.0  0.33  59.425505  \n3    8.0       0     330        25      3     1.0  0.50  93.704912  \n4   14.0       8      -1        25      3     1.0  0.75  34.384843  ",
            "text/html": "<div>\n<style scoped>\n    .dataframe tbody tr th:only-of-type {\n        vertical-align: middle;\n    }\n\n    .dataframe tbody tr th {\n        vertical-align: top;\n    }\n\n    .dataframe thead th {\n        text-align: right;\n    }\n</style>\n<table border=\"1\" class=\"dataframe\">\n  <thead>\n    <tr style=\"text-align: right;\">\n      <th></th>\n      <th>name</th>\n      <th>mfr</th>\n      <th>type</th>\n      <th>calories</th>\n      <th>protein</th>\n      <th>fat</th>\n      <th>sodium</th>\n      <th>fiber</th>\n      <th>carbo</th>\n      <th>sugars</th>\n      <th>potass</th>\n      <th>vitamins</th>\n      <th>shelf</th>\n      <th>weight</th>\n      <th>cups</th>\n      <th>rating</th>\n    </tr>\n  </thead>\n  <tbody>\n    <tr>\n      <th>0</th>\n      <td>100% Bran</td>\n      <td>N</td>\n      <td>C</td>\n      <td>70</td>\n      <td>4</td>\n      <td>1</td>\n      <td>130</td>\n      <td>10.0</td>\n      <td>5.0</td>\n      <td>6</td>\n      <td>280</td>\n      <td>25</td>\n      <td>3</td>\n      <td>1.0</td>\n      <td>0.33</td>\n      <td>68.402973</td>\n    </tr>\n    <tr>\n      <th>1</th>\n      <td>100% Natural Bran</td>\n      <td>Q</td>\n      <td>C</td>\n      <td>120</td>\n      <td>3</td>\n      <td>5</td>\n      <td>15</td>\n      <td>2.0</td>\n      <td>8.0</td>\n      <td>8</td>\n      <td>135</td>\n      <td>0</td>\n      <td>3</td>\n      <td>1.0</td>\n      <td>1.00</td>\n      <td>33.983679</td>\n    </tr>\n    <tr>\n      <th>2</th>\n      <td>All-Bran</td>\n      <td>K</td>\n      <td>C</td>\n      <td>70</td>\n      <td>4</td>\n      <td>1</td>\n      <td>260</td>\n      <td>9.0</td>\n      <td>7.0</td>\n      <td>5</td>\n      <td>320</td>\n      <td>25</td>\n      <td>3</td>\n      <td>1.0</td>\n      <td>0.33</td>\n      <td>59.425505</td>\n    </tr>\n    <tr>\n      <th>3</th>\n      <td>All-Bran with Extra Fiber</td>\n      <td>K</td>\n      <td>C</td>\n      <td>50</td>\n      <td>4</td>\n      <td>0</td>\n      <td>140</td>\n      <td>14.0</td>\n      <td>8.0</td>\n      <td>0</td>\n      <td>330</td>\n      <td>25</td>\n      <td>3</td>\n      <td>1.0</td>\n      <td>0.50</td>\n      <td>93.704912</td>\n    </tr>\n    <tr>\n      <th>4</th>\n      <td>Almond Delight</td>\n      <td>R</td>\n      <td>C</td>\n      <td>110</td>\n      <td>2</td>\n      <td>2</td>\n      <td>200</td>\n      <td>1.0</td>\n      <td>14.0</td>\n      <td>8</td>\n      <td>-1</td>\n      <td>25</td>\n      <td>3</td>\n      <td>1.0</td>\n      <td>0.75</td>\n      <td>34.384843</td>\n    </tr>\n  </tbody>\n</table>\n</div>"
          },
          "metadata": {}
        }
      ],
      "execution_count": 1
    },
    {
      "id": "c28b4555",
      "cell_type": "markdown",
      "source": "## **2. Display all cereal names.**",
      "metadata": {}
    },
    {
      "id": "5437d6ad",
      "cell_type": "code",
      "source": "print(\"All cereal names of the dataset:\")\ndisplay(cereal_df[[\"name\"]])",
      "metadata": {
        "trusted": true
      },
      "outputs": [
        {
          "name": "stdout",
          "output_type": "stream",
          "text": "All cereal names of the dataset:\n"
        },
        {
          "output_type": "display_data",
          "data": {
            "text/plain": "                         name\n0                   100% Bran\n1           100% Natural Bran\n2                    All-Bran\n3   All-Bran with Extra Fiber\n4              Almond Delight\n..                        ...\n72                    Triples\n73                       Trix\n74                 Wheat Chex\n75                   Wheaties\n76        Wheaties Honey Gold\n\n[77 rows x 1 columns]",
            "text/html": "<div>\n<style scoped>\n    .dataframe tbody tr th:only-of-type {\n        vertical-align: middle;\n    }\n\n    .dataframe tbody tr th {\n        vertical-align: top;\n    }\n\n    .dataframe thead th {\n        text-align: right;\n    }\n</style>\n<table border=\"1\" class=\"dataframe\">\n  <thead>\n    <tr style=\"text-align: right;\">\n      <th></th>\n      <th>name</th>\n    </tr>\n  </thead>\n  <tbody>\n    <tr>\n      <th>0</th>\n      <td>100% Bran</td>\n    </tr>\n    <tr>\n      <th>1</th>\n      <td>100% Natural Bran</td>\n    </tr>\n    <tr>\n      <th>2</th>\n      <td>All-Bran</td>\n    </tr>\n    <tr>\n      <th>3</th>\n      <td>All-Bran with Extra Fiber</td>\n    </tr>\n    <tr>\n      <th>4</th>\n      <td>Almond Delight</td>\n    </tr>\n    <tr>\n      <th>...</th>\n      <td>...</td>\n    </tr>\n    <tr>\n      <th>72</th>\n      <td>Triples</td>\n    </tr>\n    <tr>\n      <th>73</th>\n      <td>Trix</td>\n    </tr>\n    <tr>\n      <th>74</th>\n      <td>Wheat Chex</td>\n    </tr>\n    <tr>\n      <th>75</th>\n      <td>Wheaties</td>\n    </tr>\n    <tr>\n      <th>76</th>\n      <td>Wheaties Honey Gold</td>\n    </tr>\n  </tbody>\n</table>\n<p>77 rows × 1 columns</p>\n</div>"
          },
          "metadata": {}
        }
      ],
      "execution_count": 2
    },
    {
      "id": "a25f4081",
      "cell_type": "markdown",
      "source": "## **3. Find the product name with the lowest rating.**",
      "metadata": {}
    },
    {
      "id": "4f4d6e58",
      "cell_type": "code",
      "source": "lowest_rating_cereal = cereal_df.loc[cereal_df[\"rating\"].idxmin()]\nprint(\"Cereal with the lowest rating:\", lowest_rating_cereal[\"name\"])\ndisplay(pd.DataFrame([lowest_rating_cereal]))",
      "metadata": {
        "trusted": true
      },
      "outputs": [
        {
          "name": "stdout",
          "output_type": "stream",
          "text": "Cereal with the lowest rating: Cap'n'Crunch\n"
        },
        {
          "output_type": "display_data",
          "data": {
            "text/plain": "            name mfr type  calories  protein  fat  sodium  fiber  carbo  \\\n10  Cap'n'Crunch   Q    C       120        1    2     220    0.0   12.0   \n\n    sugars  potass  vitamins  shelf  weight  cups     rating  \n10      12      35        25      2     1.0  0.75  18.042851  ",
            "text/html": "<div>\n<style scoped>\n    .dataframe tbody tr th:only-of-type {\n        vertical-align: middle;\n    }\n\n    .dataframe tbody tr th {\n        vertical-align: top;\n    }\n\n    .dataframe thead th {\n        text-align: right;\n    }\n</style>\n<table border=\"1\" class=\"dataframe\">\n  <thead>\n    <tr style=\"text-align: right;\">\n      <th></th>\n      <th>name</th>\n      <th>mfr</th>\n      <th>type</th>\n      <th>calories</th>\n      <th>protein</th>\n      <th>fat</th>\n      <th>sodium</th>\n      <th>fiber</th>\n      <th>carbo</th>\n      <th>sugars</th>\n      <th>potass</th>\n      <th>vitamins</th>\n      <th>shelf</th>\n      <th>weight</th>\n      <th>cups</th>\n      <th>rating</th>\n    </tr>\n  </thead>\n  <tbody>\n    <tr>\n      <th>10</th>\n      <td>Cap'n'Crunch</td>\n      <td>Q</td>\n      <td>C</td>\n      <td>120</td>\n      <td>1</td>\n      <td>2</td>\n      <td>220</td>\n      <td>0.0</td>\n      <td>12.0</td>\n      <td>12</td>\n      <td>35</td>\n      <td>25</td>\n      <td>2</td>\n      <td>1.0</td>\n      <td>0.75</td>\n      <td>18.042851</td>\n    </tr>\n  </tbody>\n</table>\n</div>"
          },
          "metadata": {}
        }
      ],
      "execution_count": 3
    },
    {
      "id": "33bb9389",
      "cell_type": "markdown",
      "source": "## **4. Display all cereals with rating above 60.**",
      "metadata": {}
    },
    {
      "id": "aeade6eb-c646-4f4f-ba3c-e36416b31b70",
      "cell_type": "code",
      "source": "rating_above_60 = cereal_df[cereal_df[\"rating\"] > 60]\nprint(\"All cereals with rating above 60:\")\ndisplay(rating_above_60[[\"name\", \"rating\"]])",
      "metadata": {
        "trusted": true
      },
      "outputs": [
        {
          "name": "stdout",
          "output_type": "stream",
          "text": "All cereals with rating above 60:\n"
        },
        {
          "output_type": "display_data",
          "data": {
            "text/plain": "                         name     rating\n0                   100% Bran  68.402973\n3   All-Bran with Extra Fiber  93.704912\n20     Cream of Wheat (Quick)  64.533816\n54                Puffed Rice  60.756112\n55               Puffed Wheat  63.005645\n63             Shredded Wheat  68.235885\n64     Shredded Wheat 'n'Bran  74.472949\n65  Shredded Wheat spoon size  72.801787",
            "text/html": "<div>\n<style scoped>\n    .dataframe tbody tr th:only-of-type {\n        vertical-align: middle;\n    }\n\n    .dataframe tbody tr th {\n        vertical-align: top;\n    }\n\n    .dataframe thead th {\n        text-align: right;\n    }\n</style>\n<table border=\"1\" class=\"dataframe\">\n  <thead>\n    <tr style=\"text-align: right;\">\n      <th></th>\n      <th>name</th>\n      <th>rating</th>\n    </tr>\n  </thead>\n  <tbody>\n    <tr>\n      <th>0</th>\n      <td>100% Bran</td>\n      <td>68.402973</td>\n    </tr>\n    <tr>\n      <th>3</th>\n      <td>All-Bran with Extra Fiber</td>\n      <td>93.704912</td>\n    </tr>\n    <tr>\n      <th>20</th>\n      <td>Cream of Wheat (Quick)</td>\n      <td>64.533816</td>\n    </tr>\n    <tr>\n      <th>54</th>\n      <td>Puffed Rice</td>\n      <td>60.756112</td>\n    </tr>\n    <tr>\n      <th>55</th>\n      <td>Puffed Wheat</td>\n      <td>63.005645</td>\n    </tr>\n    <tr>\n      <th>63</th>\n      <td>Shredded Wheat</td>\n      <td>68.235885</td>\n    </tr>\n    <tr>\n      <th>64</th>\n      <td>Shredded Wheat 'n'Bran</td>\n      <td>74.472949</td>\n    </tr>\n    <tr>\n      <th>65</th>\n      <td>Shredded Wheat spoon size</td>\n      <td>72.801787</td>\n    </tr>\n  </tbody>\n</table>\n</div>"
          },
          "metadata": {}
        }
      ],
      "execution_count": 4
    },
    {
      "id": "d4bcbe74",
      "cell_type": "markdown",
      "source": "## **5. Add a new column \"fiber per ounce\". Its value equals \"fiber\" divided by \"weight\".**",
      "metadata": {}
    },
    {
      "id": "bced16d7",
      "cell_type": "code",
      "source": "cereal_df[\"fiber per ounce\"] = cereal_df[\"fiber\"] / cereal_df[\"weight\"]\nprint(\"Added a new \\\"fiber per ounce\\\" column to the dataset:\")\ndisplay(cereal_df)",
      "metadata": {
        "trusted": true
      },
      "outputs": [
        {
          "name": "stdout",
          "output_type": "stream",
          "text": "Added a new \"fiber per ounce\" column to the dataset:\n"
        },
        {
          "output_type": "display_data",
          "data": {
            "text/plain": "                         name mfr type  calories  protein  fat  sodium  fiber  \\\n0                   100% Bran   N    C        70        4    1     130   10.0   \n1           100% Natural Bran   Q    C       120        3    5      15    2.0   \n2                    All-Bran   K    C        70        4    1     260    9.0   \n3   All-Bran with Extra Fiber   K    C        50        4    0     140   14.0   \n4              Almond Delight   R    C       110        2    2     200    1.0   \n..                        ...  ..  ...       ...      ...  ...     ...    ...   \n72                    Triples   G    C       110        2    1     250    0.0   \n73                       Trix   G    C       110        1    1     140    0.0   \n74                 Wheat Chex   R    C       100        3    1     230    3.0   \n75                   Wheaties   G    C       100        3    1     200    3.0   \n76        Wheaties Honey Gold   G    C       110        2    1     200    1.0   \n\n    carbo  sugars  potass  vitamins  shelf  weight  cups     rating  \\\n0     5.0       6     280        25      3     1.0  0.33  68.402973   \n1     8.0       8     135         0      3     1.0  1.00  33.983679   \n2     7.0       5     320        25      3     1.0  0.33  59.425505   \n3     8.0       0     330        25      3     1.0  0.50  93.704912   \n4    14.0       8      -1        25      3     1.0  0.75  34.384843   \n..    ...     ...     ...       ...    ...     ...   ...        ...   \n72   21.0       3      60        25      3     1.0  0.75  39.106174   \n73   13.0      12      25        25      2     1.0  1.00  27.753301   \n74   17.0       3     115        25      1     1.0  0.67  49.787445   \n75   17.0       3     110        25      1     1.0  1.00  51.592193   \n76   16.0       8      60        25      1     1.0  0.75  36.187559   \n\n    fiber per ounce  \n0              10.0  \n1               2.0  \n2               9.0  \n3              14.0  \n4               1.0  \n..              ...  \n72              0.0  \n73              0.0  \n74              3.0  \n75              3.0  \n76              1.0  \n\n[77 rows x 17 columns]",
            "text/html": "<div>\n<style scoped>\n    .dataframe tbody tr th:only-of-type {\n        vertical-align: middle;\n    }\n\n    .dataframe tbody tr th {\n        vertical-align: top;\n    }\n\n    .dataframe thead th {\n        text-align: right;\n    }\n</style>\n<table border=\"1\" class=\"dataframe\">\n  <thead>\n    <tr style=\"text-align: right;\">\n      <th></th>\n      <th>name</th>\n      <th>mfr</th>\n      <th>type</th>\n      <th>calories</th>\n      <th>protein</th>\n      <th>fat</th>\n      <th>sodium</th>\n      <th>fiber</th>\n      <th>carbo</th>\n      <th>sugars</th>\n      <th>potass</th>\n      <th>vitamins</th>\n      <th>shelf</th>\n      <th>weight</th>\n      <th>cups</th>\n      <th>rating</th>\n      <th>fiber per ounce</th>\n    </tr>\n  </thead>\n  <tbody>\n    <tr>\n      <th>0</th>\n      <td>100% Bran</td>\n      <td>N</td>\n      <td>C</td>\n      <td>70</td>\n      <td>4</td>\n      <td>1</td>\n      <td>130</td>\n      <td>10.0</td>\n      <td>5.0</td>\n      <td>6</td>\n      <td>280</td>\n      <td>25</td>\n      <td>3</td>\n      <td>1.0</td>\n      <td>0.33</td>\n      <td>68.402973</td>\n      <td>10.0</td>\n    </tr>\n    <tr>\n      <th>1</th>\n      <td>100% Natural Bran</td>\n      <td>Q</td>\n      <td>C</td>\n      <td>120</td>\n      <td>3</td>\n      <td>5</td>\n      <td>15</td>\n      <td>2.0</td>\n      <td>8.0</td>\n      <td>8</td>\n      <td>135</td>\n      <td>0</td>\n      <td>3</td>\n      <td>1.0</td>\n      <td>1.00</td>\n      <td>33.983679</td>\n      <td>2.0</td>\n    </tr>\n    <tr>\n      <th>2</th>\n      <td>All-Bran</td>\n      <td>K</td>\n      <td>C</td>\n      <td>70</td>\n      <td>4</td>\n      <td>1</td>\n      <td>260</td>\n      <td>9.0</td>\n      <td>7.0</td>\n      <td>5</td>\n      <td>320</td>\n      <td>25</td>\n      <td>3</td>\n      <td>1.0</td>\n      <td>0.33</td>\n      <td>59.425505</td>\n      <td>9.0</td>\n    </tr>\n    <tr>\n      <th>3</th>\n      <td>All-Bran with Extra Fiber</td>\n      <td>K</td>\n      <td>C</td>\n      <td>50</td>\n      <td>4</td>\n      <td>0</td>\n      <td>140</td>\n      <td>14.0</td>\n      <td>8.0</td>\n      <td>0</td>\n      <td>330</td>\n      <td>25</td>\n      <td>3</td>\n      <td>1.0</td>\n      <td>0.50</td>\n      <td>93.704912</td>\n      <td>14.0</td>\n    </tr>\n    <tr>\n      <th>4</th>\n      <td>Almond Delight</td>\n      <td>R</td>\n      <td>C</td>\n      <td>110</td>\n      <td>2</td>\n      <td>2</td>\n      <td>200</td>\n      <td>1.0</td>\n      <td>14.0</td>\n      <td>8</td>\n      <td>-1</td>\n      <td>25</td>\n      <td>3</td>\n      <td>1.0</td>\n      <td>0.75</td>\n      <td>34.384843</td>\n      <td>1.0</td>\n    </tr>\n    <tr>\n      <th>...</th>\n      <td>...</td>\n      <td>...</td>\n      <td>...</td>\n      <td>...</td>\n      <td>...</td>\n      <td>...</td>\n      <td>...</td>\n      <td>...</td>\n      <td>...</td>\n      <td>...</td>\n      <td>...</td>\n      <td>...</td>\n      <td>...</td>\n      <td>...</td>\n      <td>...</td>\n      <td>...</td>\n      <td>...</td>\n    </tr>\n    <tr>\n      <th>72</th>\n      <td>Triples</td>\n      <td>G</td>\n      <td>C</td>\n      <td>110</td>\n      <td>2</td>\n      <td>1</td>\n      <td>250</td>\n      <td>0.0</td>\n      <td>21.0</td>\n      <td>3</td>\n      <td>60</td>\n      <td>25</td>\n      <td>3</td>\n      <td>1.0</td>\n      <td>0.75</td>\n      <td>39.106174</td>\n      <td>0.0</td>\n    </tr>\n    <tr>\n      <th>73</th>\n      <td>Trix</td>\n      <td>G</td>\n      <td>C</td>\n      <td>110</td>\n      <td>1</td>\n      <td>1</td>\n      <td>140</td>\n      <td>0.0</td>\n      <td>13.0</td>\n      <td>12</td>\n      <td>25</td>\n      <td>25</td>\n      <td>2</td>\n      <td>1.0</td>\n      <td>1.00</td>\n      <td>27.753301</td>\n      <td>0.0</td>\n    </tr>\n    <tr>\n      <th>74</th>\n      <td>Wheat Chex</td>\n      <td>R</td>\n      <td>C</td>\n      <td>100</td>\n      <td>3</td>\n      <td>1</td>\n      <td>230</td>\n      <td>3.0</td>\n      <td>17.0</td>\n      <td>3</td>\n      <td>115</td>\n      <td>25</td>\n      <td>1</td>\n      <td>1.0</td>\n      <td>0.67</td>\n      <td>49.787445</td>\n      <td>3.0</td>\n    </tr>\n    <tr>\n      <th>75</th>\n      <td>Wheaties</td>\n      <td>G</td>\n      <td>C</td>\n      <td>100</td>\n      <td>3</td>\n      <td>1</td>\n      <td>200</td>\n      <td>3.0</td>\n      <td>17.0</td>\n      <td>3</td>\n      <td>110</td>\n      <td>25</td>\n      <td>1</td>\n      <td>1.0</td>\n      <td>1.00</td>\n      <td>51.592193</td>\n      <td>3.0</td>\n    </tr>\n    <tr>\n      <th>76</th>\n      <td>Wheaties Honey Gold</td>\n      <td>G</td>\n      <td>C</td>\n      <td>110</td>\n      <td>2</td>\n      <td>1</td>\n      <td>200</td>\n      <td>1.0</td>\n      <td>16.0</td>\n      <td>8</td>\n      <td>60</td>\n      <td>25</td>\n      <td>1</td>\n      <td>1.0</td>\n      <td>0.75</td>\n      <td>36.187559</td>\n      <td>1.0</td>\n    </tr>\n  </tbody>\n</table>\n<p>77 rows × 17 columns</p>\n</div>"
          },
          "metadata": {}
        }
      ],
      "execution_count": 5
    },
    {
      "id": "c9c3e6b4-9d89-442b-9675-302358a93782",
      "cell_type": "markdown",
      "source": "## **6. Which product has the highest amount of fiber per ounce?**",
      "metadata": {}
    },
    {
      "id": "f1dfbd12-ce06-474a-b06c-68a506caac68",
      "cell_type": "code",
      "source": "highest_fiber_cereal = cereal_df.loc[cereal_df[\"fiber per ounce\"].idxmax()]\nprint(\"Cereal with the highest amount of fiber per ounce:\", highest_fiber_cereal[\"name\"])\ndisplay(pd.DataFrame([highest_fiber_cereal]))",
      "metadata": {
        "trusted": true
      },
      "outputs": [
        {
          "name": "stdout",
          "output_type": "stream",
          "text": "Cereal with the highest amount of fiber per ounce: All-Bran with Extra Fiber\n"
        },
        {
          "output_type": "display_data",
          "data": {
            "text/plain": "                        name mfr type  calories  protein  fat  sodium  fiber  \\\n3  All-Bran with Extra Fiber   K    C        50        4    0     140   14.0   \n\n   carbo  sugars  potass  vitamins  shelf  weight  cups     rating  \\\n3    8.0       0     330        25      3     1.0   0.5  93.704912   \n\n   fiber per ounce  \n3             14.0  ",
            "text/html": "<div>\n<style scoped>\n    .dataframe tbody tr th:only-of-type {\n        vertical-align: middle;\n    }\n\n    .dataframe tbody tr th {\n        vertical-align: top;\n    }\n\n    .dataframe thead th {\n        text-align: right;\n    }\n</style>\n<table border=\"1\" class=\"dataframe\">\n  <thead>\n    <tr style=\"text-align: right;\">\n      <th></th>\n      <th>name</th>\n      <th>mfr</th>\n      <th>type</th>\n      <th>calories</th>\n      <th>protein</th>\n      <th>fat</th>\n      <th>sodium</th>\n      <th>fiber</th>\n      <th>carbo</th>\n      <th>sugars</th>\n      <th>potass</th>\n      <th>vitamins</th>\n      <th>shelf</th>\n      <th>weight</th>\n      <th>cups</th>\n      <th>rating</th>\n      <th>fiber per ounce</th>\n    </tr>\n  </thead>\n  <tbody>\n    <tr>\n      <th>3</th>\n      <td>All-Bran with Extra Fiber</td>\n      <td>K</td>\n      <td>C</td>\n      <td>50</td>\n      <td>4</td>\n      <td>0</td>\n      <td>140</td>\n      <td>14.0</td>\n      <td>8.0</td>\n      <td>0</td>\n      <td>330</td>\n      <td>25</td>\n      <td>3</td>\n      <td>1.0</td>\n      <td>0.5</td>\n      <td>93.704912</td>\n      <td>14.0</td>\n    </tr>\n  </tbody>\n</table>\n</div>"
          },
          "metadata": {}
        }
      ],
      "execution_count": 6
    }
  ]
}
